{
  "nbformat": 4,
  "nbformat_minor": 0,
  "metadata": {
    "kernelspec": {
      "display_name": "Python 3",
      "language": "python",
      "name": "python3"
    },
    "language_info": {
      "codemirror_mode": {
        "name": "ipython",
        "version": 3
      },
      "file_extension": ".py",
      "mimetype": "text/x-python",
      "name": "python",
      "nbconvert_exporter": "python",
      "pygments_lexer": "ipython3",
      "version": "3.8.5"
    },
    "colab": {
      "name": "num3.ipynb",
      "provenance": [],
      "collapsed_sections": [],
      "include_colab_link": true
    }
  },
  "cells": [
    {
      "cell_type": "markdown",
      "metadata": {
        "id": "view-in-github",
        "colab_type": "text"
      },
      "source": [
        "<a href=\"https://colab.research.google.com/github/nkmf/LpC/blob/master/num3.ipynb\" target=\"_parent\"><img src=\"https://colab.research.google.com/assets/colab-badge.svg\" alt=\"Open In Colab\"/></a>"
      ]
    },
    {
      "cell_type": "code",
      "metadata": {
        "id": "PpzVowi8ViX_"
      },
      "source": [
        "import keras\n",
        "import numpy as np\n",
        "import pandas as pd\n",
        "from pandas import Series,DataFrame\n",
        "import random\n",
        "import sys\n",
        "from keras import layers\n",
        "random.seed(1)\n",
        "np.random.seed(seed=1)"
      ],
      "execution_count": 110,
      "outputs": []
    },
    {
      "cell_type": "code",
      "metadata": {
        "id": "y61pwKDlViX_"
      },
      "source": [
        "\n",
        "\n",
        "# CSV の準備\n",
        "df = pd.read_csv('NUMBERS3_ALL.csv',encoding = \"shift-jis\",index_col=0)\n",
        "l = df.values.tolist()\n",
        "\n",
        "temp = []\n",
        "for i in l:\n",
        "    temp.extend(i)\n",
        "\n",
        "mapNA = map(str, temp)\n",
        "text = ''.join(mapNA)"
      ],
      "execution_count": 111,
      "outputs": []
    },
    {
      "cell_type": "code",
      "metadata": {
        "colab": {
          "base_uri": "https://localhost:8080/"
        },
        "id": "5izQi2VzViX_",
        "outputId": "1d417884-36c4-4c52-a845-02d4c57839ee"
      },
      "source": [
        "# Length of extracted character sequences\n",
        "maxlen = 3\n",
        "\n",
        "# We sample a new sequence every `step` characters\n",
        "step = 3\n",
        "\n",
        "# This holds our extracted sequences\n",
        "sentences = []\n",
        "\n",
        "# This holds the targets (the follow-up characters)\n",
        "next_chars = []\n",
        "\n",
        "for i in range(0, len(text) - maxlen, step):\n",
        "    sentences.append(text[i: i + maxlen])\n",
        "    next_chars.append(text[i + maxlen])\n",
        "print('Number of sequences:', len(sentences))\n",
        "\n",
        "# List of unique characters in the corpus\n",
        "chars = sorted(list(set(text)))\n",
        "print('Unique characters:', len(chars))\n",
        "# Dictionary mapping unique characters to their index in `chars`\n",
        "char_indices = dict((char, chars.index(char)) for char in chars)\n",
        "\n",
        "# Next, one-hot encode the characters into binary arrays.\n",
        "print('Vectorization...')\n",
        "x = np.zeros((len(sentences), maxlen, len(chars)), dtype=np.bool)\n",
        "y = np.zeros((len(sentences), len(chars)), dtype=np.bool)\n",
        "for i, sentence in enumerate(sentences):\n",
        "    for t, char in enumerate(sentence):\n",
        "        x[i, t, char_indices[char]] = 1\n",
        "    y[i, char_indices[next_chars[i]]] = 1"
      ],
      "execution_count": 112,
      "outputs": [
        {
          "output_type": "stream",
          "text": [
            "Number of sequences: 5377\n",
            "Unique characters: 10\n",
            "Vectorization...\n"
          ],
          "name": "stdout"
        }
      ]
    },
    {
      "cell_type": "code",
      "metadata": {
        "id": "QwVd74ylViYA"
      },
      "source": [
        "model = keras.models.Sequential()\n",
        "model.add(layers.LSTM(512, input_shape=(maxlen, len(chars))))\n",
        "#model.add(layers.Dense(128, activation='relu'))\n",
        "model.add(layers.Dense(len(chars), activation='relu'))\n",
        "\n",
        "optimizer = keras.optimizers.Adam()\n",
        "model.compile(loss='mean_squared_logarithmic_error', optimizer=optimizer)"
      ],
      "execution_count": 113,
      "outputs": []
    },
    {
      "cell_type": "code",
      "metadata": {
        "colab": {
          "base_uri": "https://localhost:8080/"
        },
        "id": "JoSYFMvTViYA",
        "outputId": "28b08074-5837-492b-8cb5-e3a702892a78"
      },
      "source": [
        "def sample(preds, temperature=1.0):\n",
        "    preds = np.asarray(preds).astype('float64')\n",
        "    preds = np.log(preds) / temperature\n",
        "    exp_preds = np.exp(preds)\n",
        "    preds = exp_preds / np.sum(exp_preds)\n",
        "    probas = np.random.multinomial(1, preds, 1)\n",
        "\n",
        "    return np.argmax(probas)\n",
        "\n",
        "\n",
        "   \n",
        "model.fit(x, y, batch_size=500, epochs=20)"
      ],
      "execution_count": 118,
      "outputs": [
        {
          "output_type": "stream",
          "text": [
            "Epoch 1/20\n",
            "11/11 [==============================] - 2s 192ms/step - loss: 0.0431\n",
            "Epoch 2/20\n",
            "11/11 [==============================] - 2s 191ms/step - loss: 0.0432\n",
            "Epoch 3/20\n",
            "11/11 [==============================] - 2s 192ms/step - loss: 0.0431\n",
            "Epoch 4/20\n",
            "11/11 [==============================] - 2s 191ms/step - loss: 0.0431\n",
            "Epoch 5/20\n",
            "11/11 [==============================] - 2s 194ms/step - loss: 0.0431\n",
            "Epoch 6/20\n",
            "11/11 [==============================] - 2s 191ms/step - loss: 0.0431\n",
            "Epoch 7/20\n",
            "11/11 [==============================] - 2s 193ms/step - loss: 0.0431\n",
            "Epoch 8/20\n",
            "11/11 [==============================] - 2s 191ms/step - loss: 0.0431\n",
            "Epoch 9/20\n",
            "11/11 [==============================] - 2s 193ms/step - loss: 0.0431\n",
            "Epoch 10/20\n",
            "11/11 [==============================] - 2s 192ms/step - loss: 0.0431\n",
            "Epoch 11/20\n",
            "11/11 [==============================] - 2s 191ms/step - loss: 0.0431\n",
            "Epoch 12/20\n",
            "11/11 [==============================] - 2s 192ms/step - loss: 0.0431\n",
            "Epoch 13/20\n",
            "11/11 [==============================] - 2s 193ms/step - loss: 0.0431\n",
            "Epoch 14/20\n",
            "11/11 [==============================] - 2s 194ms/step - loss: 0.0431\n",
            "Epoch 15/20\n",
            "11/11 [==============================] - 2s 191ms/step - loss: 0.0431\n",
            "Epoch 16/20\n",
            "11/11 [==============================] - 2s 194ms/step - loss: 0.0431\n",
            "Epoch 17/20\n",
            "11/11 [==============================] - 2s 192ms/step - loss: 0.0431\n",
            "Epoch 18/20\n",
            "11/11 [==============================] - 2s 192ms/step - loss: 0.0431\n",
            "Epoch 19/20\n",
            "11/11 [==============================] - 2s 193ms/step - loss: 0.0431\n",
            "Epoch 20/20\n",
            "11/11 [==============================] - 2s 193ms/step - loss: 0.0431\n"
          ],
          "name": "stdout"
        },
        {
          "output_type": "execute_result",
          "data": {
            "text/plain": [
              "<tensorflow.python.keras.callbacks.History at 0x7f1c2056dda0>"
            ]
          },
          "metadata": {
            "tags": []
          },
          "execution_count": 118
        }
      ]
    },
    {
      "cell_type": "code",
      "metadata": {
        "scrolled": true,
        "id": "0jefAIf0ViYA"
      },
      "source": [
        "# Select a text seed\n",
        "#start_index = epoch * 3\n",
        "#generated_text = text[start_index: start_index + maxlen]\n",
        "preA = []\n",
        "buffA = []\n",
        "\n",
        "tmp_array = np.arange(0.02,2,0.05)\n",
        "tmp_list = tmp_array.tolist()\n",
        "#温度調整\n",
        "for temperature in tmp_list:  \n",
        "    # We generate 3 characters\n",
        "    hon_generated_text_A = text[-3:]\n",
        "    #print('--- Generating with seed: \"' + hon_generated_text_A + '\"')\n",
        "    for i in range(3):\n",
        "        sampled = np.zeros((1, maxlen, len(chars)))\n",
        "        for t, char in enumerate(hon_generated_text_A):\n",
        "            sampled[0, t, char_indices[char]] = 1.\n",
        "\n",
        "        preds = model.predict(sampled, verbose=0)[0]\n",
        "        next_index = sample(preds, temperature = temperature)\n",
        "        next_char = chars[next_index]\n",
        "        hon_generated_text_A += next_char\n",
        "        hon_generated_text_A = hon_generated_text_A[1:]\n",
        "               \n",
        "        buffA.append(next_char)\n",
        "        #sys.stdout.write(next_char)\n",
        "        #sys.stdout.flush()        \n",
        "\n",
        "    preA.append(buffA)\n",
        "    buffA = []"
      ],
      "execution_count": 119,
      "outputs": []
    },
    {
      "cell_type": "code",
      "metadata": {
        "id": "N1OuK4xCWy63"
      },
      "source": [
        "def getPrise(sanchi, kai): #282 mmA\n",
        "    print(kai)\n",
        "\n",
        "    if first(sanchi,kai) == 3:\n",
        "        print(\"ストレートｷﾀｰｷﾀｰｷﾀｰｷﾀｰｷﾀｰｷﾀｰｷﾀｰｷﾀｰｷﾀｰｷﾀｰｷﾀｰｷﾀｰｷﾀｰｷﾀｰ\")\n",
        "        return True\n",
        "    elif first(sanchi,kai) == 2:\n",
        "        print(\"2合致ｷﾀｰｷﾀｰｷﾀｰｷﾀｰｷﾀｰｷﾀｰｷﾀｰｷﾀｰｷﾀｰｷﾀｰｷﾀｰ\")\n",
        "        return True\n",
        "    elif box(sanchi,kai) == 5:\n",
        "        print(\"BOX合致ﾀｰｷﾀｰｷﾀｰｷﾀｰｷﾀｰｷﾀｰｷﾀｰｷﾀｰｷﾀｰﾀｰｷﾀｰｷﾀｰｷﾀｰｷﾀｰｷﾀｰ\")\n",
        "        return True\n",
        "    else:\n",
        "      return True\n",
        "\n",
        "def first(atari,yosoku):\n",
        "  yosokuK = yosoku\n",
        "  san = [0,0,0]\n",
        "  san[0] = int(atari) // 100\n",
        "  san[1] = (int(atari) % 100) // 10\n",
        "  san[2] = (int(atari) % 10) \n",
        "  count = 0\n",
        "  if int(yosokuK[0]) == int(san[0]):\n",
        "    count += 1\n",
        "  if int(yosokuK[1]) == int(san[1]):\n",
        "    count += 1 \n",
        "  if int(yosokuK[2]) == int(san[2]):\n",
        "    count += 1\n",
        "  return count\n",
        "\n",
        "\n",
        "def box(atari,yosoku):\n",
        "  san = [0,0,0]\n",
        "  san[0] = int(atari) // 100\n",
        "  san[1] = (int(atari) % 100) // 10\n",
        "  san[2] = (int(atari) % 10) \n",
        "  count = 0\n",
        "  a = {san[0],san[1],san[2]}\n",
        "  b1 = {int(yosoku[0]),int(yosoku[1]),int(yosoku[2])}==a\n",
        "  b2 = {int(yosoku[0]),int(yosoku[2]),int(yosoku[1])}==a\n",
        "  b3 = {int(yosoku[1]),int(yosoku[0]),int(yosoku[2])}==a\n",
        "  b4 = {int(yosoku[1]),int(yosoku[2]),int(yosoku[0])}==a\n",
        "  b5 = {int(yosoku[2]),int(yosoku[1]),int(yosoku[0])}==a\n",
        "  b6 = {int(yosoku[2]),int(yosoku[0]),int(yosoku[1])}==a\n",
        "  if b1 or b2 or b3 or b4 or b5 or b6 == True:\n",
        "    return 5\n",
        "  else:\n",
        "    return 0"
      ],
      "execution_count": 120,
      "outputs": []
    },
    {
      "cell_type": "code",
      "metadata": {
        "colab": {
          "base_uri": "https://localhost:8080/"
        },
        "id": "U-BSspErViYA",
        "outputId": "00493367-89a2-40ad-cd38-a6dd0bfd3dd2"
      },
      "source": [
        "numA = 0\n",
        "for mmA in preA:\n",
        "    numA += 1\n",
        "    print(numA)\n",
        "    getPrise(282,mmA)"
      ],
      "execution_count": 121,
      "outputs": [
        {
          "output_type": "stream",
          "text": [
            "1\n",
            "['8', '9', '5']\n",
            "2\n",
            "['8', '9', '5']\n",
            "3\n",
            "['6', '9', '3']\n",
            "4\n",
            "['7', '9', '9']\n",
            "5\n",
            "['1', '1', '5']\n",
            "6\n",
            "['5', '7', '1']\n",
            "7\n",
            "['6', '8', '7']\n",
            "8\n",
            "['5', '7', '9']\n",
            "9\n",
            "['2', '8', '2']\n",
            "ストレートｷﾀｰｷﾀｰｷﾀｰｷﾀｰｷﾀｰｷﾀｰｷﾀｰｷﾀｰｷﾀｰｷﾀｰｷﾀｰｷﾀｰｷﾀｰｷﾀｰ\n",
            "10\n",
            "['1', '9', '5']\n",
            "11\n",
            "['8', '7', '1']\n",
            "12\n",
            "['2', '6', '8']\n",
            "13\n",
            "['3', '8', '7']\n",
            "14\n",
            "['8', '7', '2']\n",
            "15\n",
            "['4', '2', '7']\n",
            "16\n",
            "['9', '6', '5']\n",
            "17\n",
            "['7', '8', '7']\n",
            "18\n",
            "['2', '4', '4']\n",
            "19\n",
            "['3', '2', '1']\n",
            "20\n",
            "['2', '8', '7']\n",
            "2合致ｷﾀｰｷﾀｰｷﾀｰｷﾀｰｷﾀｰｷﾀｰｷﾀｰｷﾀｰｷﾀｰｷﾀｰｷﾀｰ\n",
            "21\n",
            "['5', '6', '7']\n",
            "22\n",
            "['1', '6', '5']\n",
            "23\n",
            "['4', '9', '3']\n",
            "24\n",
            "['2', '8', '1']\n",
            "2合致ｷﾀｰｷﾀｰｷﾀｰｷﾀｰｷﾀｰｷﾀｰｷﾀｰｷﾀｰｷﾀｰｷﾀｰｷﾀｰ\n",
            "25\n",
            "['9', '6', '6']\n",
            "26\n",
            "['5', '8', '4']\n",
            "27\n",
            "['4', '2', '2']\n",
            "28\n",
            "['9', '2', '4']\n",
            "29\n",
            "['1', '7', '5']\n",
            "30\n",
            "['3', '5', '9']\n",
            "31\n",
            "['9', '3', '5']\n",
            "32\n",
            "['7', '8', '9']\n",
            "33\n",
            "['2', '7', '4']\n",
            "34\n",
            "['8', '2', '5']\n",
            "35\n",
            "['4', '8', '8']\n",
            "36\n",
            "['2', '8', '4']\n",
            "2合致ｷﾀｰｷﾀｰｷﾀｰｷﾀｰｷﾀｰｷﾀｰｷﾀｰｷﾀｰｷﾀｰｷﾀｰｷﾀｰ\n",
            "37\n",
            "['2', '3', '0']\n",
            "38\n",
            "['0', '4', '7']\n",
            "39\n",
            "['5', '5', '0']\n",
            "40\n",
            "['1', '6', '6']\n"
          ],
          "name": "stdout"
        }
      ]
    },
    {
      "cell_type": "code",
      "metadata": {
        "id": "pDR5cjP8cit_"
      },
      "source": [
        ""
      ],
      "execution_count": 121,
      "outputs": []
    }
  ]
}